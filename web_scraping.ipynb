{
  "nbformat": 4,
  "nbformat_minor": 0,
  "metadata": {
    "colab": {
      "provenance": []
    },
    "kernelspec": {
      "name": "python3",
      "display_name": "Python 3"
    },
    "language_info": {
      "name": "python"
    }
  },
  "cells": [
    {
      "cell_type": "code",
      "execution_count": null,
      "metadata": {
        "colab": {
          "base_uri": "https://localhost:8080/"
        },
        "id": "N4v3YECzrjX3",
        "outputId": "aa314a68-db8e-47a6-fc39-0aaa893e5785"
      },
      "outputs": [
        {
          "output_type": "stream",
          "name": "stdout",
          "text": [
            "Requirement already satisfied: pyspark in /usr/local/lib/python3.10/dist-packages (3.5.1)\n",
            "Requirement already satisfied: py4j==0.10.9.7 in /usr/local/lib/python3.10/dist-packages (from pyspark) (0.10.9.7)\n",
            "Requirement already satisfied: pyspark in /usr/local/lib/python3.10/dist-packages (3.5.1)\n",
            "Requirement already satisfied: py4j==0.10.9.7 in /usr/local/lib/python3.10/dist-packages (from pyspark) (0.10.9.7)\n"
          ]
        }
      ],
      "source": [
        "!pip install pyspark"
      ]
    },
    {
      "cell_type": "code",
      "source": [
        "from bs4 import BeautifulSoup\n",
        "import requests"
      ],
      "metadata": {
        "id": "3QBmyFoPA1lp"
      },
      "execution_count": 6,
      "outputs": []
    },
    {
      "cell_type": "code",
      "source": [
        "url=\"https://www.medicalnewstoday.com/articles/poisonous-plants#poison-ivy-oak-and-sumac\""
      ],
      "metadata": {
        "id": "NgpCJ1Rl7AhG"
      },
      "execution_count": 2,
      "outputs": []
    },
    {
      "cell_type": "code",
      "source": [
        "from google.colab import drive\n",
        "drive.mount('/content/drive')"
      ],
      "metadata": {
        "colab": {
          "base_uri": "https://localhost:8080/",
          "height": 0
        },
        "id": "iMDXokA_cJoT",
        "outputId": "4c8253ac-5792-478f-adfb-49d99d09c199"
      },
      "execution_count": 3,
      "outputs": [
        {
          "output_type": "stream",
          "name": "stdout",
          "text": [
            "Drive already mounted at /content/drive; to attempt to forcibly remount, call drive.mount(\"/content/drive\", force_remount=True).\n"
          ]
        }
      ]
    },
    {
      "cell_type": "code",
      "source": [
        "page=requests.get(url)"
      ],
      "metadata": {
        "id": "ArPxuIeN7CuX"
      },
      "execution_count": 7,
      "outputs": []
    },
    {
      "cell_type": "code",
      "source": [
        "soup=BeautifulSoup(page.text,'html')\n",
        "print(soup)"
      ],
      "metadata": {
        "id": "2_uhkyDs7G4T"
      },
      "execution_count": null,
      "outputs": []
    },
    {
      "cell_type": "code",
      "source": [
        "title=soup.find('title')\n",
        "print(title)"
      ],
      "metadata": {
        "colab": {
          "base_uri": "https://localhost:8080/",
          "height": 0
        },
        "id": "CNcEeM1f7MEO",
        "outputId": "99980c9d-697d-4187-e2d1-c2ef3fc707ac"
      },
      "execution_count": 9,
      "outputs": [
        {
          "output_type": "stream",
          "name": "stdout",
          "text": [
            "<title>Top 10 most common poisonous plants: How to identify</title>\n"
          ]
        }
      ]
    },
    {
      "cell_type": "code",
      "source": [
        "print(title.text)"
      ],
      "metadata": {
        "colab": {
          "base_uri": "https://localhost:8080/",
          "height": 0
        },
        "id": "pM1W6ZtP7QXJ",
        "outputId": "a9b05a73-48f3-4bca-cc2d-2a52497c7823"
      },
      "execution_count": 10,
      "outputs": [
        {
          "output_type": "stream",
          "name": "stdout",
          "text": [
            "Top 10 most common poisonous plants: How to identify\n"
          ]
        }
      ]
    },
    {
      "cell_type": "code",
      "source": [
        "table = soup.find('table')\n",
        "print(table)"
      ],
      "metadata": {
        "colab": {
          "base_uri": "https://localhost:8080/",
          "height": 0
        },
        "id": "3DseBit67sHU",
        "outputId": "5ffbbea4-6cbe-4a04-b030-c8fcd26daa1a"
      },
      "execution_count": 11,
      "outputs": [
        {
          "output_type": "stream",
          "name": "stdout",
          "text": [
            "<table class=\"responsive css-1pp4cxb css-1pp4cxb\"><tbody><tr><th scope=\"col\"></th><th scope=\"col\">Description</th><th scope=\"col\">Spring</th><th scope=\"col\">Summer</th><th scope=\"col\">Fall</th><th scope=\"col\">Winter</th></tr><tr><th scope=\"row\">Sumac</th><td>A red stem with <hl-trusted-source rationale=\"Governmental authority\" source=\"Centers for Disease Control and Prevention (CDC)\"><a class=\"content-link css-1pg8eb5\" href=\"https://www.cdc.gov/niosh/topics/plants/identification.html\" rel=\"noopener noreferrer\" target=\"_blank\">7–13 leaves</a></hl-trusted-source> per stem.</td><td>Small green berries that are not perfectly round, with green leaves.</td><td>Same as in spring.</td><td>White berries<br/>and red-orange leaves.</td><td>The leaves drop, but the bark is still poisonous.</td></tr><tr><th scope=\"row\">Ivy</th><td>Young plants have reddish leaves. <br/><br/>Mature plants have green leaves, but the new leaves are red.</td><td>Small clusters of green buds.</td><td>Small greenish-white blooms with an orange centre.</td><td>Pale green berries form and then turn white. <br/>The leaves turn red, orange, or yellow.</td><td>The leaves drop, but the bark is still poisonous.</td></tr><tr><th scope=\"row\">Oak</th><td>Lobed leaves that look similar to oak leaves. Usually in threes.</td><td>Leaves that are green and shiny and may have varying red parts.</td><td>Clusters of small green flowers.</td><td>Leaves that turn reddish.</td><td>The leaves drop, but the cinnamon-colored bark is still poisonous.</td></tr></tbody></table>\n"
          ]
        }
      ]
    },
    {
      "cell_type": "code",
      "source": [
        "Headings = table.find_all('th')\n",
        "print(Headings)"
      ],
      "metadata": {
        "colab": {
          "base_uri": "https://localhost:8080/",
          "height": 0
        },
        "id": "7EU0ck2H7w9c",
        "outputId": "c7668ce7-fa2c-41d9-ecd7-7467eff8afcf"
      },
      "execution_count": 12,
      "outputs": [
        {
          "output_type": "stream",
          "name": "stdout",
          "text": [
            "[<th scope=\"col\"></th>, <th scope=\"col\">Description</th>, <th scope=\"col\">Spring</th>, <th scope=\"col\">Summer</th>, <th scope=\"col\">Fall</th>, <th scope=\"col\">Winter</th>, <th scope=\"row\">Sumac</th>, <th scope=\"row\">Ivy</th>, <th scope=\"row\">Oak</th>]\n"
          ]
        }
      ]
    },
    {
      "cell_type": "code",
      "source": [
        "Header = [i.text for i in Headings]\n",
        "print(Header)"
      ],
      "metadata": {
        "colab": {
          "base_uri": "https://localhost:8080/",
          "height": 0
        },
        "id": "EgukO8mu772X",
        "outputId": "0524eac8-ece9-4d72-8f6d-d3cbdf75e4ff"
      },
      "execution_count": 13,
      "outputs": [
        {
          "output_type": "stream",
          "name": "stdout",
          "text": [
            "['', 'Description', 'Spring', 'Summer', 'Fall', 'Winter', 'Sumac', 'Ivy', 'Oak']\n"
          ]
        }
      ]
    },
    {
      "cell_type": "code",
      "source": [
        "import pandas as pd\n",
        "df = pd.DataFrame(columns = Header)\n",
        "df"
      ],
      "metadata": {
        "colab": {
          "base_uri": "https://localhost:8080/",
          "height": 136
        },
        "id": "X8EUajm-7-x0",
        "outputId": "e947c12a-012a-4b15-fa2f-8f625ff02ca2"
      },
      "execution_count": 14,
      "outputs": [
        {
          "output_type": "execute_result",
          "data": {
            "text/plain": [
              "Empty DataFrame\n",
              "Columns: [, Description, Spring, Summer, Fall, Winter, Sumac, Ivy, Oak]\n",
              "Index: []"
            ],
            "text/html": [
              "\n",
              "  <div id=\"df-01e25534-33fe-461f-bf35-6c0dec6ffd2e\" class=\"colab-df-container\">\n",
              "    <div>\n",
              "<style scoped>\n",
              "    .dataframe tbody tr th:only-of-type {\n",
              "        vertical-align: middle;\n",
              "    }\n",
              "\n",
              "    .dataframe tbody tr th {\n",
              "        vertical-align: top;\n",
              "    }\n",
              "\n",
              "    .dataframe thead th {\n",
              "        text-align: right;\n",
              "    }\n",
              "</style>\n",
              "<table border=\"1\" class=\"dataframe\">\n",
              "  <thead>\n",
              "    <tr style=\"text-align: right;\">\n",
              "      <th></th>\n",
              "      <th></th>\n",
              "      <th>Description</th>\n",
              "      <th>Spring</th>\n",
              "      <th>Summer</th>\n",
              "      <th>Fall</th>\n",
              "      <th>Winter</th>\n",
              "      <th>Sumac</th>\n",
              "      <th>Ivy</th>\n",
              "      <th>Oak</th>\n",
              "    </tr>\n",
              "  </thead>\n",
              "  <tbody>\n",
              "  </tbody>\n",
              "</table>\n",
              "</div>\n",
              "    <div class=\"colab-df-buttons\">\n",
              "\n",
              "  <div class=\"colab-df-container\">\n",
              "    <button class=\"colab-df-convert\" onclick=\"convertToInteractive('df-01e25534-33fe-461f-bf35-6c0dec6ffd2e')\"\n",
              "            title=\"Convert this dataframe to an interactive table.\"\n",
              "            style=\"display:none;\">\n",
              "\n",
              "  <svg xmlns=\"http://www.w3.org/2000/svg\" height=\"24px\" viewBox=\"0 -960 960 960\">\n",
              "    <path d=\"M120-120v-720h720v720H120Zm60-500h600v-160H180v160Zm220 220h160v-160H400v160Zm0 220h160v-160H400v160ZM180-400h160v-160H180v160Zm440 0h160v-160H620v160ZM180-180h160v-160H180v160Zm440 0h160v-160H620v160Z\"/>\n",
              "  </svg>\n",
              "    </button>\n",
              "\n",
              "  <style>\n",
              "    .colab-df-container {\n",
              "      display:flex;\n",
              "      gap: 12px;\n",
              "    }\n",
              "\n",
              "    .colab-df-convert {\n",
              "      background-color: #E8F0FE;\n",
              "      border: none;\n",
              "      border-radius: 50%;\n",
              "      cursor: pointer;\n",
              "      display: none;\n",
              "      fill: #1967D2;\n",
              "      height: 32px;\n",
              "      padding: 0 0 0 0;\n",
              "      width: 32px;\n",
              "    }\n",
              "\n",
              "    .colab-df-convert:hover {\n",
              "      background-color: #E2EBFA;\n",
              "      box-shadow: 0px 1px 2px rgba(60, 64, 67, 0.3), 0px 1px 3px 1px rgba(60, 64, 67, 0.15);\n",
              "      fill: #174EA6;\n",
              "    }\n",
              "\n",
              "    .colab-df-buttons div {\n",
              "      margin-bottom: 4px;\n",
              "    }\n",
              "\n",
              "    [theme=dark] .colab-df-convert {\n",
              "      background-color: #3B4455;\n",
              "      fill: #D2E3FC;\n",
              "    }\n",
              "\n",
              "    [theme=dark] .colab-df-convert:hover {\n",
              "      background-color: #434B5C;\n",
              "      box-shadow: 0px 1px 3px 1px rgba(0, 0, 0, 0.15);\n",
              "      filter: drop-shadow(0px 1px 2px rgba(0, 0, 0, 0.3));\n",
              "      fill: #FFFFFF;\n",
              "    }\n",
              "  </style>\n",
              "\n",
              "    <script>\n",
              "      const buttonEl =\n",
              "        document.querySelector('#df-01e25534-33fe-461f-bf35-6c0dec6ffd2e button.colab-df-convert');\n",
              "      buttonEl.style.display =\n",
              "        google.colab.kernel.accessAllowed ? 'block' : 'none';\n",
              "\n",
              "      async function convertToInteractive(key) {\n",
              "        const element = document.querySelector('#df-01e25534-33fe-461f-bf35-6c0dec6ffd2e');\n",
              "        const dataTable =\n",
              "          await google.colab.kernel.invokeFunction('convertToInteractive',\n",
              "                                                    [key], {});\n",
              "        if (!dataTable) return;\n",
              "\n",
              "        const docLinkHtml = 'Like what you see? Visit the ' +\n",
              "          '<a target=\"_blank\" href=https://colab.research.google.com/notebooks/data_table.ipynb>data table notebook</a>'\n",
              "          + ' to learn more about interactive tables.';\n",
              "        element.innerHTML = '';\n",
              "        dataTable['output_type'] = 'display_data';\n",
              "        await google.colab.output.renderOutput(dataTable, element);\n",
              "        const docLink = document.createElement('div');\n",
              "        docLink.innerHTML = docLinkHtml;\n",
              "        element.appendChild(docLink);\n",
              "      }\n",
              "    </script>\n",
              "  </div>\n",
              "\n",
              "\n",
              "  <div id=\"id_d947bf87-def8-47c5-aae4-f6c893772f36\">\n",
              "    <style>\n",
              "      .colab-df-generate {\n",
              "        background-color: #E8F0FE;\n",
              "        border: none;\n",
              "        border-radius: 50%;\n",
              "        cursor: pointer;\n",
              "        display: none;\n",
              "        fill: #1967D2;\n",
              "        height: 32px;\n",
              "        padding: 0 0 0 0;\n",
              "        width: 32px;\n",
              "      }\n",
              "\n",
              "      .colab-df-generate:hover {\n",
              "        background-color: #E2EBFA;\n",
              "        box-shadow: 0px 1px 2px rgba(60, 64, 67, 0.3), 0px 1px 3px 1px rgba(60, 64, 67, 0.15);\n",
              "        fill: #174EA6;\n",
              "      }\n",
              "\n",
              "      [theme=dark] .colab-df-generate {\n",
              "        background-color: #3B4455;\n",
              "        fill: #D2E3FC;\n",
              "      }\n",
              "\n",
              "      [theme=dark] .colab-df-generate:hover {\n",
              "        background-color: #434B5C;\n",
              "        box-shadow: 0px 1px 3px 1px rgba(0, 0, 0, 0.15);\n",
              "        filter: drop-shadow(0px 1px 2px rgba(0, 0, 0, 0.3));\n",
              "        fill: #FFFFFF;\n",
              "      }\n",
              "    </style>\n",
              "    <button class=\"colab-df-generate\" onclick=\"generateWithVariable('df')\"\n",
              "            title=\"Generate code using this dataframe.\"\n",
              "            style=\"display:none;\">\n",
              "\n",
              "  <svg xmlns=\"http://www.w3.org/2000/svg\" height=\"24px\"viewBox=\"0 0 24 24\"\n",
              "       width=\"24px\">\n",
              "    <path d=\"M7,19H8.4L18.45,9,17,7.55,7,17.6ZM5,21V16.75L18.45,3.32a2,2,0,0,1,2.83,0l1.4,1.43a1.91,1.91,0,0,1,.58,1.4,1.91,1.91,0,0,1-.58,1.4L9.25,21ZM18.45,9,17,7.55Zm-12,3A5.31,5.31,0,0,0,4.9,8.1,5.31,5.31,0,0,0,1,6.5,5.31,5.31,0,0,0,4.9,4.9,5.31,5.31,0,0,0,6.5,1,5.31,5.31,0,0,0,8.1,4.9,5.31,5.31,0,0,0,12,6.5,5.46,5.46,0,0,0,6.5,12Z\"/>\n",
              "  </svg>\n",
              "    </button>\n",
              "    <script>\n",
              "      (() => {\n",
              "      const buttonEl =\n",
              "        document.querySelector('#id_d947bf87-def8-47c5-aae4-f6c893772f36 button.colab-df-generate');\n",
              "      buttonEl.style.display =\n",
              "        google.colab.kernel.accessAllowed ? 'block' : 'none';\n",
              "\n",
              "      buttonEl.onclick = () => {\n",
              "        google.colab.notebook.generateWithVariable('df');\n",
              "      }\n",
              "      })();\n",
              "    </script>\n",
              "  </div>\n",
              "\n",
              "    </div>\n",
              "  </div>\n"
            ],
            "application/vnd.google.colaboratory.intrinsic+json": {
              "type": "dataframe",
              "variable_name": "df",
              "repr_error": "'str' object has no attribute 'empty'"
            }
          },
          "metadata": {},
          "execution_count": 14
        }
      ]
    },
    {
      "cell_type": "code",
      "source": [
        "rows = table.find_all('tr')\n",
        "print(rows)\n",
        "print(df.columns)"
      ],
      "metadata": {
        "colab": {
          "base_uri": "https://localhost:8080/",
          "height": 0
        },
        "id": "FQwmzPFR8DZ9",
        "outputId": "50696794-f3cc-4981-d6ee-16b3536fd547"
      },
      "execution_count": 15,
      "outputs": [
        {
          "output_type": "stream",
          "name": "stdout",
          "text": [
            "[<tr><th scope=\"col\"></th><th scope=\"col\">Description</th><th scope=\"col\">Spring</th><th scope=\"col\">Summer</th><th scope=\"col\">Fall</th><th scope=\"col\">Winter</th></tr>, <tr><th scope=\"row\">Sumac</th><td>A red stem with <hl-trusted-source rationale=\"Governmental authority\" source=\"Centers for Disease Control and Prevention (CDC)\"><a class=\"content-link css-1pg8eb5\" href=\"https://www.cdc.gov/niosh/topics/plants/identification.html\" rel=\"noopener noreferrer\" target=\"_blank\">7–13 leaves</a></hl-trusted-source> per stem.</td><td>Small green berries that are not perfectly round, with green leaves.</td><td>Same as in spring.</td><td>White berries<br/>and red-orange leaves.</td><td>The leaves drop, but the bark is still poisonous.</td></tr>, <tr><th scope=\"row\">Ivy</th><td>Young plants have reddish leaves. <br/><br/>Mature plants have green leaves, but the new leaves are red.</td><td>Small clusters of green buds.</td><td>Small greenish-white blooms with an orange centre.</td><td>Pale green berries form and then turn white. <br/>The leaves turn red, orange, or yellow.</td><td>The leaves drop, but the bark is still poisonous.</td></tr>, <tr><th scope=\"row\">Oak</th><td>Lobed leaves that look similar to oak leaves. Usually in threes.</td><td>Leaves that are green and shiny and may have varying red parts.</td><td>Clusters of small green flowers.</td><td>Leaves that turn reddish.</td><td>The leaves drop, but the cinnamon-colored bark is still poisonous.</td></tr>]\n",
            "Index(['', 'Description', 'Spring', 'Summer', 'Fall', 'Winter', 'Sumac', 'Ivy',\n",
            "       'Oak'],\n",
            "      dtype='object')\n"
          ]
        }
      ]
    },
    {
      "cell_type": "code",
      "source": [
        "ind = 0\n",
        "for i in rows[1:6]:\n",
        "  row_data = i.find_all('td')\n",
        "  every_row_data = [i.text for i in row_data]\n",
        "\n",
        "  # Check if the number of elements in the every_row_data list matches the number of columns in the df DataFrame\n",
        "  if len(every_row_data) != len(df.columns):\n",
        "    # Adjust the number of elements in the every_row_data list to match the number of columns in the df DataFrame\n",
        "    if len(every_row_data) > len(df.columns):\n",
        "      every_row_data = every_row_data[:len(df.columns)]\n",
        "    else:\n",
        "      every_row_data = every_row_data + [None] * (len(df.columns) - len(every_row_data))\n",
        "\n",
        "  print(every_row_data)\n",
        "  df.loc[ind] = every_row_data\n",
        "  ind = ind + 1\n",
        "\n"
      ],
      "metadata": {
        "colab": {
          "base_uri": "https://localhost:8080/"
        },
        "id": "B3zEIfoe8Jfv",
        "outputId": "3aac6722-4e18-4097-d4df-607f05e76f1c"
      },
      "execution_count": 32,
      "outputs": [
        {
          "output_type": "stream",
          "name": "stdout",
          "text": [
            "['A red stem with 7–13 leaves per stem.', 'Small green berries that are not perfectly round, with green leaves.', 'Same as in spring.', 'White berriesand red-orange leaves.', 'The leaves drop, but the bark is still poisonous.', None, None, None, None]\n",
            "['Young plants have reddish leaves. Mature plants have green leaves, but the new leaves are red.', 'Small clusters of green buds.', 'Small greenish-white blooms with an orange centre.', 'Pale green berries form and then turn white. The leaves turn red, orange, or yellow.', 'The leaves drop, but the bark is still poisonous.', None, None, None, None]\n",
            "['Lobed leaves that look similar to oak leaves. Usually in threes.', 'Leaves that are green and shiny and may have varying red parts.', 'Clusters of small green flowers.', 'Leaves that turn reddish.', 'The leaves drop, but the cinnamon-colored bark is still poisonous.', None, None, None, None]\n"
          ]
        }
      ]
    },
    {
      "cell_type": "code",
      "source": [
        "df\n",
        "df.to_csv(\"poisionous plants.csv\")"
      ],
      "metadata": {
        "id": "Hfxct8EL8QTK"
      },
      "execution_count": 33,
      "outputs": []
    }
  ]
}