{
  "nbformat": 4,
  "nbformat_minor": 0,
  "metadata": {
    "colab": {
      "provenance": []
    },
    "kernelspec": {
      "name": "python3",
      "display_name": "Python 3"
    },
    "language_info": {
      "name": "python"
    }
  },
  "cells": [
    {
      "cell_type": "markdown",
      "source": [
        "Volume"
      ],
      "metadata": {
        "id": "ejeDPhDKaAjc"
      }
    },
    {
      "cell_type": "code",
      "source": [
        "from google.colab import drive\n",
        "drive.mount('/content/drive')"
      ],
      "metadata": {
        "colab": {
          "base_uri": "https://localhost:8080/"
        },
        "id": "mqC9Wgerkdf7",
        "outputId": "d42d5a5c-9d6a-4c24-dc23-391fad378884"
      },
      "execution_count": 2,
      "outputs": [
        {
          "output_type": "stream",
          "name": "stdout",
          "text": [
            "Mounted at /content/drive\n"
          ]
        }
      ]
    },
    {
      "cell_type": "code",
      "execution_count": 3,
      "metadata": {
        "id": "pgTfSrj0OlYw",
        "colab": {
          "base_uri": "https://localhost:8080/"
        },
        "outputId": "a1ecf05b-aded-4965-b2bf-4146e3b4e2c7"
      },
      "outputs": [
        {
          "output_type": "stream",
          "name": "stdout",
          "text": [
            "volume of data: 49\n"
          ]
        }
      ],
      "source": [
        "import pandas as pd\n",
        "#generate a large volume of random data(eg. 1 millon data points)\n",
        "volume_data = pd.read_csv('/content/Health_insurance.csv')\n",
        "print(\"volume of data:\",len(volume_data))"
      ]
    },
    {
      "cell_type": "markdown",
      "source": [
        "Velocity"
      ],
      "metadata": {
        "id": "CKljSgygaEq7"
      }
    },
    {
      "cell_type": "code",
      "source": [
        "import time\n",
        "import numpy as np\n",
        "#simulate streaming data every second for 10 seconds\n",
        "velocity_data = pd.read_csv('/content/Health_insurance.csv')\n",
        "for i in range(10):\n",
        "  velocity_data=np.random.rand( )#generate random data\n",
        "  print(\"velocity data point:\",velocity_data)\n",
        "  time.sleep(2)#wait for 1 second to simulate real-time data stream"
      ],
      "metadata": {
        "colab": {
          "base_uri": "https://localhost:8080/"
        },
        "id": "9i0698sLaEBF",
        "outputId": "96fdf8f4-8389-4907-f955-d79d7ff06402"
      },
      "execution_count": 4,
      "outputs": [
        {
          "output_type": "stream",
          "name": "stdout",
          "text": [
            "velocity data point: 0.2751771508888863\n",
            "velocity data point: 0.23387489922261506\n",
            "velocity data point: 0.86102405881582\n",
            "velocity data point: 0.9870368620577533\n",
            "velocity data point: 0.569959844009074\n",
            "velocity data point: 0.663333274938445\n",
            "velocity data point: 0.38245401067477414\n",
            "velocity data point: 0.13600300020243883\n",
            "velocity data point: 0.7586706691979328\n",
            "velocity data point: 0.5539779823833069\n"
          ]
        }
      ]
    },
    {
      "cell_type": "markdown",
      "source": [
        "Veracity"
      ],
      "metadata": {
        "id": "vFaib5qYadxY"
      }
    },
    {
      "cell_type": "code",
      "source": [
        "import pandas as pd\n",
        "import random\n",
        "#generate some random data with noise\n",
        "veracity_data = pd.read_csv('/content/Health_insurance.csv')\n",
        "veracity_data=[random.choice([1,2,3,None])for _ in range(20)]\n",
        "print(\"veracity data:\",veracity_data)"
      ],
      "metadata": {
        "colab": {
          "base_uri": "https://localhost:8080/"
        },
        "id": "bjmp1X-paaQB",
        "outputId": "3dee1ef7-a887-4da6-be3d-5bb0a8e03dfd"
      },
      "execution_count": 5,
      "outputs": [
        {
          "output_type": "stream",
          "name": "stdout",
          "text": [
            "veracity data: [2, 1, 2, 1, 3, None, None, None, None, None, 3, 2, 1, 1, None, None, 1, 3, 1, 2]\n"
          ]
        }
      ]
    },
    {
      "cell_type": "markdown",
      "source": [
        "Variety"
      ],
      "metadata": {
        "id": "wDQundsDauV9"
      }
    },
    {
      "cell_type": "code",
      "source": [
        "print(\"Variety of data:\")\n",
        "print(volume_data.info())"
      ],
      "metadata": {
        "colab": {
          "base_uri": "https://localhost:8080/"
        },
        "id": "C-gIMZuaar0i",
        "outputId": "70751ba2-e781-4c9d-a893-55cb13a26e9e"
      },
      "execution_count": null,
      "outputs": [
        {
          "output_type": "stream",
          "name": "stdout",
          "text": [
            "Variety of data:\n",
            "<class 'pandas.core.frame.DataFrame'>\n",
            "RangeIndex: 7 entries, 0 to 6\n",
            "Data columns (total 2 columns):\n",
            " #   Column   Non-Null Count  Dtype\n",
            "---  ------   --------------  -----\n",
            " 0   Age      7 non-null      int64\n",
            " 1   Premium  7 non-null      int64\n",
            "dtypes: int64(2)\n",
            "memory usage: 240.0 bytes\n",
            "None\n"
          ]
        }
      ]
    },
    {
      "cell_type": "code",
      "source": [
        "structured_data = pd.read_csv('/content/Health_insurance.csv', sep =',')\n",
        "#structured data\n",
        "print(structured_data)\n",
        "#semi-structured data(JSON)\n",
        "semistructured_data = pd.read_csv('/content/Health_insurance.csv', sep =',')\n",
        "print(semistructured_data)\n",
        "#unstructured data(text)\n",
        "unstructured_data=\"This is a sample text document.It can contain any information in free form\"\n",
        "print(unstructured_data)"
      ],
      "metadata": {
        "colab": {
          "base_uri": "https://localhost:8080/"
        },
        "id": "xJyhZcLObQiU",
        "outputId": "9e59dc3d-1ea6-4f92-9164-0804eb74c9f0"
      },
      "execution_count": 6,
      "outputs": [
        {
          "output_type": "stream",
          "name": "stdout",
          "text": [
            "    age     sex     bmi  children smoker     region      charges\n",
            "0    19  female  27.900         0    yes  southwest  16884.92400\n",
            "1    18    male  33.770         1     no  southeast   1725.55230\n",
            "2    28    male  33.000         3     no  southeast   4449.46200\n",
            "3    33    male  22.705         0     no  northwest  21984.47061\n",
            "4    32    male  28.880         0     no  northwest   3866.85520\n",
            "5    31  female  25.740         0     no  southeast   3756.62160\n",
            "6    46  female  33.440         1     no  southeast   8240.58960\n",
            "7    37  female  27.740         3     no  northwest   7281.50560\n",
            "8    37    male  29.830         2     no  northeast   6406.41070\n",
            "9    60  female  25.840         0     no  northwest  28923.13692\n",
            "10   25    male  26.220         0     no  northeast   2721.32080\n",
            "11   62  female  26.290         0    yes  southeast  27808.72510\n",
            "12   23    male  34.400         0     no  southwest   1826.84300\n",
            "13   56  female  39.820         0     no  southeast  11090.71780\n",
            "14   27    male  42.130         0    yes  southeast  39611.75770\n",
            "15   19    male  24.600         1     no  southwest   1837.23700\n",
            "16   52  female  30.780         1     no  northeast  10797.33620\n",
            "17   23    male  23.845         0     no  northeast   2395.17155\n",
            "18   56    male  40.300         0     no  southwest  10602.38500\n",
            "19   30    male  35.300         0    yes  southwest  36837.46700\n",
            "20   60  female  36.005         0     no  northeast  13228.84695\n",
            "21   30  female  32.400         1     no  southwest   4149.73600\n",
            "22   18    male  34.100         0     no  southeast   1137.01100\n",
            "23   34  female  31.920         1    yes  northeast  37701.87680\n",
            "24   37    male  28.025         2     no  northwest   6203.90175\n",
            "25   59  female  27.720         3     no  southeast  14001.13380\n",
            "26   63  female  23.085         0     no  northeast  14451.83515\n",
            "27   55  female  32.775         2     no  northwest  12268.63225\n",
            "28   23    male  17.385         1     no  northwest   2775.19215\n",
            "29   31    male  36.300         2    yes  southwest  38711.00000\n",
            "30   22    male  35.600         0    yes  southwest  35585.57600\n",
            "31   18  female  26.315         0     no  northeast   2198.18985\n",
            "32   19  female  28.600         5     no  southwest   4687.79700\n",
            "33   63    male  28.310         0     no  northwest  13770.09790\n",
            "34   28    male  36.400         1    yes  southwest  51194.55914\n",
            "35   19    male  20.425         0     no  northwest   1625.43375\n",
            "36   62  female  32.965         3     no  northwest  15612.19335\n",
            "37   26    male  20.800         0     no  southwest   2302.30000\n",
            "38   35    male  36.670         1    yes  northeast  39774.27630\n",
            "39   60    male  39.900         0    yes  southwest  48173.36100\n",
            "40   24  female  26.600         0     no  northeast   3046.06200\n",
            "41   31  female  36.630         2     no  southeast   4949.75870\n",
            "42   41    male  21.780         1     no  southeast   6272.47720\n",
            "43   37  female  30.800         2     no  southeast   6313.75900\n",
            "44   38    male  37.050         1     no  northeast   6079.67150\n",
            "45   55    male  37.300         0     no  southwest  20630.28351\n",
            "46   18  female  38.665         2     no  northeast   3393.35635\n",
            "47   28  female  34.770         0     no  northwest   3556.92230\n",
            "48   60  female  24.530         0     no  southeast  12629.89670\n",
            "    age     sex     bmi  children smoker     region      charges\n",
            "0    19  female  27.900         0    yes  southwest  16884.92400\n",
            "1    18    male  33.770         1     no  southeast   1725.55230\n",
            "2    28    male  33.000         3     no  southeast   4449.46200\n",
            "3    33    male  22.705         0     no  northwest  21984.47061\n",
            "4    32    male  28.880         0     no  northwest   3866.85520\n",
            "5    31  female  25.740         0     no  southeast   3756.62160\n",
            "6    46  female  33.440         1     no  southeast   8240.58960\n",
            "7    37  female  27.740         3     no  northwest   7281.50560\n",
            "8    37    male  29.830         2     no  northeast   6406.41070\n",
            "9    60  female  25.840         0     no  northwest  28923.13692\n",
            "10   25    male  26.220         0     no  northeast   2721.32080\n",
            "11   62  female  26.290         0    yes  southeast  27808.72510\n",
            "12   23    male  34.400         0     no  southwest   1826.84300\n",
            "13   56  female  39.820         0     no  southeast  11090.71780\n",
            "14   27    male  42.130         0    yes  southeast  39611.75770\n",
            "15   19    male  24.600         1     no  southwest   1837.23700\n",
            "16   52  female  30.780         1     no  northeast  10797.33620\n",
            "17   23    male  23.845         0     no  northeast   2395.17155\n",
            "18   56    male  40.300         0     no  southwest  10602.38500\n",
            "19   30    male  35.300         0    yes  southwest  36837.46700\n",
            "20   60  female  36.005         0     no  northeast  13228.84695\n",
            "21   30  female  32.400         1     no  southwest   4149.73600\n",
            "22   18    male  34.100         0     no  southeast   1137.01100\n",
            "23   34  female  31.920         1    yes  northeast  37701.87680\n",
            "24   37    male  28.025         2     no  northwest   6203.90175\n",
            "25   59  female  27.720         3     no  southeast  14001.13380\n",
            "26   63  female  23.085         0     no  northeast  14451.83515\n",
            "27   55  female  32.775         2     no  northwest  12268.63225\n",
            "28   23    male  17.385         1     no  northwest   2775.19215\n",
            "29   31    male  36.300         2    yes  southwest  38711.00000\n",
            "30   22    male  35.600         0    yes  southwest  35585.57600\n",
            "31   18  female  26.315         0     no  northeast   2198.18985\n",
            "32   19  female  28.600         5     no  southwest   4687.79700\n",
            "33   63    male  28.310         0     no  northwest  13770.09790\n",
            "34   28    male  36.400         1    yes  southwest  51194.55914\n",
            "35   19    male  20.425         0     no  northwest   1625.43375\n",
            "36   62  female  32.965         3     no  northwest  15612.19335\n",
            "37   26    male  20.800         0     no  southwest   2302.30000\n",
            "38   35    male  36.670         1    yes  northeast  39774.27630\n",
            "39   60    male  39.900         0    yes  southwest  48173.36100\n",
            "40   24  female  26.600         0     no  northeast   3046.06200\n",
            "41   31  female  36.630         2     no  southeast   4949.75870\n",
            "42   41    male  21.780         1     no  southeast   6272.47720\n",
            "43   37  female  30.800         2     no  southeast   6313.75900\n",
            "44   38    male  37.050         1     no  northeast   6079.67150\n",
            "45   55    male  37.300         0     no  southwest  20630.28351\n",
            "46   18  female  38.665         2     no  northeast   3393.35635\n",
            "47   28  female  34.770         0     no  northwest   3556.92230\n",
            "48   60  female  24.530         0     no  southeast  12629.89670\n",
            "This is a sample text document.It can contain any information in free form\n"
          ]
        }
      ]
    }
  ]
}