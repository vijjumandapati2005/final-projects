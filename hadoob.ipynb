{
  "nbformat": 4,
  "nbformat_minor": 0,
  "metadata": {
    "colab": {
      "provenance": []
    },
    "kernelspec": {
      "name": "python3",
      "display_name": "Python 3"
    },
    "language_info": {
      "name": "python"
    }
  },
  "cells": [
    {
      "cell_type": "code",
      "execution_count": null,
      "metadata": {
        "colab": {
          "base_uri": "https://localhost:8080/"
        },
        "id": "bo6CChDC21T_",
        "outputId": "a68fade4-cb43-40f4-dc51-78427e3c0121"
      },
      "outputs": [
        {
          "output_type": "stream",
          "name": "stdout",
          "text": [
            "Collecting pyspark\n",
            "  Downloading pyspark-3.5.1.tar.gz (317.0 MB)\n",
            "\u001b[2K     \u001b[90m━━━━━━━━━━━━━━━━━━━━━━━━━━━━━━━━━━━━━━━━\u001b[0m \u001b[32m317.0/317.0 MB\u001b[0m \u001b[31m1.9 MB/s\u001b[0m eta \u001b[36m0:00:00\u001b[0m\n",
            "\u001b[?25h  Preparing metadata (setup.py) ... \u001b[?25l\u001b[?25hdone\n",
            "Requirement already satisfied: py4j==0.10.9.7 in /usr/local/lib/python3.10/dist-packages (from pyspark) (0.10.9.7)\n",
            "Building wheels for collected packages: pyspark\n",
            "  Building wheel for pyspark (setup.py) ... \u001b[?25l\u001b[?25hdone\n",
            "  Created wheel for pyspark: filename=pyspark-3.5.1-py2.py3-none-any.whl size=317488493 sha256=690d8ec189bda91befce972c3a3f8d369799c75b731d02f7643c6830b7558e98\n",
            "  Stored in directory: /root/.cache/pip/wheels/80/1d/60/2c256ed38dddce2fdd93be545214a63e02fbd8d74fb0b7f3a6\n",
            "Successfully built pyspark\n",
            "Installing collected packages: pyspark\n",
            "Successfully installed pyspark-3.5.1\n"
          ]
        }
      ],
      "source": [
        "# Import SparkSession from PySpark\n",
        "!pip install pyspark\n",
        "# Import SparkSession from PySpark\n",
        "from pyspark.sql import SparkSession\n",
        "from pyspark.sql.functions import avg\n",
        "\n",
        "# Create a SparkSession #job\n",
        "spark = SparkSession.builder \\\n",
        "    .appName(\"DistributedComputingExample\") \\\n",
        "   .getOrCreate()"
      ]
    },
    {
      "cell_type": "code",
      "source": [
        "# Load data from CSV file\n",
        "file_path = \"/content/diabetcsv.csv\"\n",
        "df = spark.read.csv(file_path, header=True, inferSchema=True)\n",
        "    #loading file                    #taking metadata\n",
        "\n",
        "# Show the DataFrame\n",
        "df.show()"
      ],
      "metadata": {
        "colab": {
          "base_uri": "https://localhost:8080/"
        },
        "id": "3rHrIa935Jwd",
        "outputId": "8ec0b789-f2b3-4349-be4f-4964090733a8"
      },
      "execution_count": null,
      "outputs": [
        {
          "output_type": "stream",
          "name": "stdout",
          "text": [
            "+----+----+----+----+----+----+-----+---+---------------+\n",
            "|preg|plas|pres|skin|insu|mass| pedi|age|          class|\n",
            "+----+----+----+----+----+----+-----+---+---------------+\n",
            "|   6| 148|  72|  35|   0|33.6|0.627| 50|tested_positive|\n",
            "|   1|  85|  66|  29|   0|26.6|0.351| 31|tested_negative|\n",
            "|   8| 183|  64|   0|   0|23.3|0.672| 32|tested_positive|\n",
            "|   1|  89|  66|  23|  94|28.1|0.167| 21|tested_negative|\n",
            "|   0| 137|  40|  35| 168|43.1|2.288| 33|tested_positive|\n",
            "|   5| 116|  74|   0|   0|25.6|0.201| 30|tested_negative|\n",
            "|   3|  78|  50|  32|  88|31.0|0.248| 26|tested_positive|\n",
            "|  10| 115|   0|   0|   0|35.3|0.134| 29|tested_negative|\n",
            "|   2| 197|  70|  45| 543|30.5|0.158| 53|tested_positive|\n",
            "|   8| 125|  96|   0|   0| 0.0|0.232| 54|tested_positive|\n",
            "|   4| 110|  92|   0|   0|37.6|0.191| 30|tested_negative|\n",
            "|  10| 168|  74|   0|   0|38.0|0.537| 34|tested_positive|\n",
            "|  10| 139|  80|   0|   0|27.1|1.441| 57|tested_negative|\n",
            "|   1| 189|  60|  23| 846|30.1|0.398| 59|tested_positive|\n",
            "|   5| 166|  72|  19| 175|25.8|0.587| 51|tested_positive|\n",
            "|   7| 100|   0|   0|   0|30.0|0.484| 32|tested_positive|\n",
            "|   0| 118|  84|  47| 230|45.8|0.551| 31|tested_positive|\n",
            "|   7| 107|  74|   0|   0|29.6|0.254| 31|tested_positive|\n",
            "|   1| 103|  30|  38|  83|43.3|0.183| 33|tested_negative|\n",
            "|   1| 115|  70|  30|  96|34.6|0.529| 32|tested_positive|\n",
            "+----+----+----+----+----+----+-----+---+---------------+\n",
            "only showing top 20 rows\n",
            "\n"
          ]
        }
      ]
    },
    {
      "cell_type": "code",
      "source": [
        "# Calculate mean mass per age group\n",
        "mean_mass_per_age_group = df.groupBy(\"age\").agg(avg(\"mass\").alias(\"Mean_Mass\"))\n",
        "\n",
        "# Show the mean mass per age group\n",
        "mean_mass_per_age_group.show()\n",
        "df.show()\n",
        "# Stop the SparkSession\n",
        "spark.stop()"
      ],
      "metadata": {
        "colab": {
          "base_uri": "https://localhost:8080/"
        },
        "id": "iCr1n40D5NA6",
        "outputId": "42ef798f-01f2-4791-c83c-0b9d2d6021cf"
      },
      "execution_count": null,
      "outputs": [
        {
          "output_type": "stream",
          "name": "stdout",
          "text": [
            "+---+------------------+\n",
            "|age|         Mean_Mass|\n",
            "+---+------------------+\n",
            "| 31| 34.01666666666666|\n",
            "| 65|31.600000000000005|\n",
            "| 53|30.500000000000007|\n",
            "| 34|31.164285714285715|\n",
            "| 81|              25.9|\n",
            "| 28|33.642857142857146|\n",
            "| 26|34.915151515151514|\n",
            "| 27|31.949999999999992|\n",
            "| 44|           34.1625|\n",
            "| 22| 29.50972222222222|\n",
            "| 47| 34.56666666666667|\n",
            "| 52|            33.475|\n",
            "| 40| 33.53846153846154|\n",
            "| 57|              29.7|\n",
            "| 54|30.799999999999997|\n",
            "| 48|29.979999999999997|\n",
            "| 64|              25.0|\n",
            "| 41|  35.2590909090909|\n",
            "| 43|36.892307692307696|\n",
            "| 37|32.078947368421055|\n",
            "+---+------------------+\n",
            "only showing top 20 rows\n",
            "\n",
            "+----+----+----+----+----+----+-----+---+---------------+\n",
            "|preg|plas|pres|skin|insu|mass| pedi|age|          class|\n",
            "+----+----+----+----+----+----+-----+---+---------------+\n",
            "|   6| 148|  72|  35|   0|33.6|0.627| 50|tested_positive|\n",
            "|   1|  85|  66|  29|   0|26.6|0.351| 31|tested_negative|\n",
            "|   8| 183|  64|   0|   0|23.3|0.672| 32|tested_positive|\n",
            "|   1|  89|  66|  23|  94|28.1|0.167| 21|tested_negative|\n",
            "|   0| 137|  40|  35| 168|43.1|2.288| 33|tested_positive|\n",
            "|   5| 116|  74|   0|   0|25.6|0.201| 30|tested_negative|\n",
            "|   3|  78|  50|  32|  88|31.0|0.248| 26|tested_positive|\n",
            "|  10| 115|   0|   0|   0|35.3|0.134| 29|tested_negative|\n",
            "|   2| 197|  70|  45| 543|30.5|0.158| 53|tested_positive|\n",
            "|   8| 125|  96|   0|   0| 0.0|0.232| 54|tested_positive|\n",
            "|   4| 110|  92|   0|   0|37.6|0.191| 30|tested_negative|\n",
            "|  10| 168|  74|   0|   0|38.0|0.537| 34|tested_positive|\n",
            "|  10| 139|  80|   0|   0|27.1|1.441| 57|tested_negative|\n",
            "|   1| 189|  60|  23| 846|30.1|0.398| 59|tested_positive|\n",
            "|   5| 166|  72|  19| 175|25.8|0.587| 51|tested_positive|\n",
            "|   7| 100|   0|   0|   0|30.0|0.484| 32|tested_positive|\n",
            "|   0| 118|  84|  47| 230|45.8|0.551| 31|tested_positive|\n",
            "|   7| 107|  74|   0|   0|29.6|0.254| 31|tested_positive|\n",
            "|   1| 103|  30|  38|  83|43.3|0.183| 33|tested_negative|\n",
            "|   1| 115|  70|  30|  96|34.6|0.529| 32|tested_positive|\n",
            "+----+----+----+----+----+----+-----+---+---------------+\n",
            "only showing top 20 rows\n",
            "\n"
          ]
        }
      ]
    },
    {
      "cell_type": "code",
      "source": [
        "# Install Apache Spark 3.0.3 with Hadoop 2.7\n",
        "!pip install pyspark==3.0.3"
      ],
      "metadata": {
        "colab": {
          "base_uri": "https://localhost:8080/",
          "height": 516
        },
        "id": "0cTtxQ765PnG",
        "outputId": "151025dd-78fa-47bb-9212-f8090bcfa68e"
      },
      "execution_count": null,
      "outputs": [
        {
          "output_type": "stream",
          "name": "stdout",
          "text": [
            "Collecting pyspark==3.0.3\n",
            "  Downloading pyspark-3.0.3.tar.gz (209.1 MB)\n",
            "\u001b[2K     \u001b[90m━━━━━━━━━━━━━━━━━━━━━━━━━━━━━━━━━━━━━━━━\u001b[0m \u001b[32m209.1/209.1 MB\u001b[0m \u001b[31m3.5 MB/s\u001b[0m eta \u001b[36m0:00:00\u001b[0m\n",
            "\u001b[?25h  Preparing metadata (setup.py) ... \u001b[?25l\u001b[?25hdone\n",
            "Collecting py4j==0.10.9 (from pyspark==3.0.3)\n",
            "  Downloading py4j-0.10.9-py2.py3-none-any.whl (198 kB)\n",
            "\u001b[2K     \u001b[90m━━━━━━━━━━━━━━━━━━━━━━━━━━━━━━━━━━━━━━━━\u001b[0m \u001b[32m198.6/198.6 kB\u001b[0m \u001b[31m23.2 MB/s\u001b[0m eta \u001b[36m0:00:00\u001b[0m\n",
            "\u001b[?25hBuilding wheels for collected packages: pyspark\n",
            "  Building wheel for pyspark (setup.py) ... \u001b[?25l\u001b[?25hdone\n",
            "  Created wheel for pyspark: filename=pyspark-3.0.3-py2.py3-none-any.whl size=209435951 sha256=62be45860dd4cbbf63c4570e159e8e4aac699eda48d5a5862f1d8833d69c3e37\n",
            "  Stored in directory: /root/.cache/pip/wheels/40/50/14/79047c3c171b701e591d287b78a201214d9c8e0b93fef64458\n",
            "Successfully built pyspark\n",
            "Installing collected packages: py4j, pyspark\n",
            "  Attempting uninstall: py4j\n",
            "    Found existing installation: py4j 0.10.9.7\n",
            "    Uninstalling py4j-0.10.9.7:\n",
            "      Successfully uninstalled py4j-0.10.9.7\n",
            "  Attempting uninstall: pyspark\n",
            "    Found existing installation: pyspark 3.5.1\n",
            "    Uninstalling pyspark-3.5.1:\n",
            "      Successfully uninstalled pyspark-3.5.1\n",
            "Successfully installed py4j-0.10.9 pyspark-3.0.3\n"
          ]
        },
        {
          "output_type": "display_data",
          "data": {
            "application/vnd.colab-display-data+json": {
              "pip_warning": {
                "packages": [
                  "py4j",
                  "pyspark"
                ]
              },
              "id": "40db36a0d82d4a66a61acc135092aa73"
            }
          },
          "metadata": {}
        }
      ]
    },
    {
      "cell_type": "code",
      "source": [
        "from google.colab import drive\n",
        "drive.mount('/content/drive')"
      ],
      "metadata": {
        "id": "C0zbbZGT241l"
      },
      "execution_count": null,
      "outputs": []
    }
  ]
}